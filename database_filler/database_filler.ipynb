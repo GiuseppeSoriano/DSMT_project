{
 "cells": [
  {
   "cell_type": "code",
   "execution_count": null,
   "metadata": {},
   "outputs": [],
   "source": [
    "import requests\n",
    "import pandas as pd\n",
    "import datetime\n",
    "import time\n",
    "\n",
    "# Carica i dati dal CSV\n",
    "file_path = 'data/HistoricalData_TSLA.csv'\n",
    "data = pd.read_csv(file_path)\n",
    "\n",
    "# Funzione per convertire la data in timestamp epoch\n",
    "def date_to_epoch(date_str, hour=0, minute=0, second=0):\n",
    "    dt = datetime.datetime.strptime(date_str, \"%m/%d/%Y\")\n",
    "    dt = dt.replace(hour=hour, minute=minute, second=second)\n",
    "    return int(dt.timestamp())\n",
    "\n",
    "# Funzione per inviare i dati all'API\n",
    "def send_data_to_api(date, value, ticker='TSLA', data_type='open'):\n",
    "    url = \"http://localhost:8080/DatabaseManager/stock-api\"\n",
    "    headers = {'Content-Type': 'application/json'}\n",
    "    numeric_value = float(value.replace('$', ''))\n",
    "    # numeric_value = value\n",
    "    payload = {\n",
    "        \"ticker\": ticker,\n",
    "        \"price\": numeric_value,\n",
    "        \"timestamp\": date_to_epoch(date, hour={'open': 9, 'low': 10, 'high': 11, 'close': 16}[data_type])\n",
    "    }\n",
    "    print(f\"Sending data to API: {payload}\")\n",
    "    response = requests.post(url, json=payload, headers=headers)\n",
    "    if response.status_code == 201:\n",
    "        print(f\"Data for {data_type} on {date} saved successfully.\")\n",
    "    else:\n",
    "        print(f\"Failed to save data for {data_type} on {date}. Response: {response.text}\")\n",
    "\n",
    "# Itera attraverso il DataFrame e invia i dati\n",
    "for index, row in data.iterrows():\n",
    "    date = row['Date']\n",
    "    send_data_to_api(date, row['Open'], data_type='open')\n",
    "    # time.sleep(1)\n",
    "    send_data_to_api(date, row['Low'], data_type='low')\n",
    "    # time.sleep(1)\n",
    "    send_data_to_api(date, row['High'], data_type='high')\n",
    "    # time.sleep(1)\n",
    "    send_data_to_api(date, row['Close/Last'], data_type='close')\n",
    "    # time.sleep(1)\n"
   ]
  }
 ],
 "metadata": {
  "kernelspec": {
   "display_name": "Python 3",
   "language": "python",
   "name": "python3"
  },
  "language_info": {
   "codemirror_mode": {
    "name": "ipython",
    "version": 3
   },
   "file_extension": ".py",
   "mimetype": "text/x-python",
   "name": "python",
   "nbconvert_exporter": "python",
   "pygments_lexer": "ipython3",
   "version": "3.11.8"
  }
 },
 "nbformat": 4,
 "nbformat_minor": 2
}
